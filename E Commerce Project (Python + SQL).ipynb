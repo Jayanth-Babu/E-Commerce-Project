{
 "cells": [
  {
   "cell_type": "code",
   "execution_count": 1,
   "id": "42907ba6-0705-4171-9d72-e456cadf37a2",
   "metadata": {},
   "outputs": [
    {
     "name": "stdout",
     "output_type": "stream",
     "text": [
      "Processing customers.csv\n",
      "NaN values before replacement:\n",
      "customer_id                 0\n",
      "customer_unique_id          0\n",
      "customer_zip_code_prefix    0\n",
      "customer_city               0\n",
      "customer_state              0\n",
      "dtype: int64\n",
      "\n",
      "Processing geolocation.csv\n",
      "NaN values before replacement:\n",
      "geolocation_zip_code_prefix    0\n",
      "geolocation_lat                0\n",
      "geolocation_lng                0\n",
      "geolocation_city               0\n",
      "geolocation_state              0\n",
      "dtype: int64\n",
      "\n",
      "Processing order_items.csv\n",
      "NaN values before replacement:\n",
      "order_id               0\n",
      "order_item_id          0\n",
      "product_id             0\n",
      "seller_id              0\n",
      "shipping_limit_date    0\n",
      "price                  0\n",
      "freight_value          0\n",
      "dtype: int64\n",
      "\n",
      "Processing orders.csv\n",
      "NaN values before replacement:\n",
      "order_id                            0\n",
      "customer_id                         0\n",
      "order_status                        0\n",
      "order_purchase_timestamp            0\n",
      "order_approved_at                 160\n",
      "order_delivered_carrier_date     1783\n",
      "order_delivered_customer_date    2965\n",
      "order_estimated_delivery_date       0\n",
      "dtype: int64\n",
      "\n",
      "Processing payments.csv\n",
      "NaN values before replacement:\n",
      "order_id                0\n",
      "payment_sequential      0\n",
      "payment_type            0\n",
      "payment_installments    0\n",
      "payment_value           0\n",
      "dtype: int64\n",
      "\n",
      "Processing products.csv\n",
      "NaN values before replacement:\n",
      "product_id                      0\n",
      "product category              610\n",
      "product_name_length           610\n",
      "product_description_length    610\n",
      "product_photos_qty            610\n",
      "product_weight_g                2\n",
      "product_length_cm               2\n",
      "product_height_cm               2\n",
      "product_width_cm                2\n",
      "dtype: int64\n",
      "\n",
      "Processing sellers.csv\n",
      "NaN values before replacement:\n",
      "seller_id                 0\n",
      "seller_zip_code_prefix    0\n",
      "seller_city               0\n",
      "seller_state              0\n",
      "dtype: int64\n",
      "\n"
     ]
    }
   ],
   "source": [
    "import pandas as pd\n",
    "import mysql.connector\n",
    "import os\n",
    "\n",
    "# List of CSV files and their corresponding table names\n",
    "csv_files = [\n",
    "    ('customers.csv', 'customers'),\n",
    "    ('geolocation.csv', 'geolocation'),\n",
    "    ('order_items.csv', 'order_items'),\n",
    "    ('orders.csv', 'orders'),\n",
    "    ('payments.csv', 'payments'),\n",
    "    ('products.csv', 'products'),\n",
    "    ('sellers.csv', 'sellers')  # Added payments.csv for specific handling\n",
    "]\n",
    "\n",
    "# Connect to the MySQL database\n",
    "conn = mysql.connector.connect(\n",
    "    host='localhost',\n",
    "    user='root',\n",
    "    password='MyNewPass',\n",
    "    database='ecommerce'\n",
    ")\n",
    "cursor = conn.cursor()\n",
    "\n",
    "# Folder containing the CSV files\n",
    "folder_path = 'F:/PERSONAL/E-Commerce Project'\n",
    "\n",
    "def get_sql_type(dtype):\n",
    "    if pd.api.types.is_integer_dtype(dtype):\n",
    "        return 'INT'\n",
    "    elif pd.api.types.is_float_dtype(dtype):\n",
    "        return 'FLOAT'\n",
    "    elif pd.api.types.is_bool_dtype(dtype):\n",
    "        return 'BOOLEAN'\n",
    "    elif pd.api.types.is_datetime64_any_dtype(dtype):\n",
    "        return 'DATETIME'\n",
    "    else:\n",
    "        return 'TEXT'\n",
    "\n",
    "for csv_file, table_name in csv_files:\n",
    "    file_path = os.path.join(folder_path, csv_file)\n",
    "    \n",
    "    # Read the CSV file into a pandas DataFrame\n",
    "    df = pd.read_csv(file_path)\n",
    "    \n",
    "    # Replace NaN with None to handle SQL NULL\n",
    "    df = df.where(pd.notnull(df), None)\n",
    "    \n",
    "    # Debugging: Check for NaN values\n",
    "    print(f\"Processing {csv_file}\")\n",
    "    print(f\"NaN values before replacement:\\n{df.isnull().sum()}\\n\")\n",
    "\n",
    "    # Clean column names\n",
    "    df.columns = [col.replace(' ', '_').replace('-', '_').replace('.', '_') for col in df.columns]\n",
    "\n",
    "    # Generate the CREATE TABLE statement with appropriate data types\n",
    "    columns = ', '.join([f'`{col}` {get_sql_type(df[col].dtype)}' for col in df.columns])\n",
    "    create_table_query = f'CREATE TABLE IF NOT EXISTS `{table_name}` ({columns})'\n",
    "    cursor.execute(create_table_query)\n",
    "\n",
    "    # Insert DataFrame data into the MySQL table\n",
    "    for _, row in df.iterrows():\n",
    "        # Convert row to tuple and handle NaN/None explicitly\n",
    "        values = tuple(None if pd.isna(x) else x for x in row)\n",
    "        sql = f\"INSERT INTO `{table_name}` ({', '.join(['`' + col + '`' for col in df.columns])}) VALUES ({', '.join(['%s'] * len(row))})\"\n",
    "        cursor.execute(sql, values)\n",
    "\n",
    "    # Commit the transaction for the current CSV file\n",
    "    conn.commit()\n",
    "\n",
    "# Close the connection\n",
    "conn.close()"
   ]
  },
  {
   "cell_type": "markdown",
   "id": "18b90e41",
   "metadata": {},
   "source": [
    "#  "
   ]
  },
  {
   "cell_type": "code",
   "execution_count": 2,
   "id": "6b9da095-0833-4f20-a03b-3740e2e68dac",
   "metadata": {},
   "outputs": [],
   "source": [
    "import numpy as np\n",
    "import pandas as pd\n",
    "import matplotlib.pyplot as plt\n",
    "import seaborn as sns\n",
    "import mysql.connector\n",
    "\n",
    "db = mysql.connector.connect(\n",
    "    host='localhost',\n",
    "    user='root',\n",
    "    password='MyNewPass',\n",
    "    database='ecommerce'\n",
    ")\n",
    "cur = db.cursor()\n",
    "\n"
   ]
  },
  {
   "cell_type": "markdown",
   "id": "7d566bd8-611e-4b62-802b-a52f17025c9d",
   "metadata": {},
   "source": [
    "# 1. List all unique cities where customers are located."
   ]
  },
  {
   "cell_type": "code",
   "execution_count": 42,
   "id": "7363f454-5e9a-4ae2-b40c-2e80ef0a6091",
   "metadata": {},
   "outputs": [
    {
     "data": {
      "text/html": [
       "<div>\n",
       "<style scoped>\n",
       "    .dataframe tbody tr th:only-of-type {\n",
       "        vertical-align: middle;\n",
       "    }\n",
       "\n",
       "    .dataframe tbody tr th {\n",
       "        vertical-align: top;\n",
       "    }\n",
       "\n",
       "    .dataframe thead th {\n",
       "        text-align: right;\n",
       "    }\n",
       "</style>\n",
       "<table border=\"1\" class=\"dataframe\">\n",
       "  <thead>\n",
       "    <tr style=\"text-align: right;\">\n",
       "      <th></th>\n",
       "      <th>0</th>\n",
       "    </tr>\n",
       "  </thead>\n",
       "  <tbody>\n",
       "    <tr>\n",
       "      <th>0</th>\n",
       "      <td>franca</td>\n",
       "    </tr>\n",
       "    <tr>\n",
       "      <th>1</th>\n",
       "      <td>sao bernardo do campo</td>\n",
       "    </tr>\n",
       "    <tr>\n",
       "      <th>2</th>\n",
       "      <td>sao paulo</td>\n",
       "    </tr>\n",
       "    <tr>\n",
       "      <th>3</th>\n",
       "      <td>mogi das cruzes</td>\n",
       "    </tr>\n",
       "    <tr>\n",
       "      <th>4</th>\n",
       "      <td>campinas</td>\n",
       "    </tr>\n",
       "  </tbody>\n",
       "</table>\n",
       "</div>"
      ],
      "text/plain": [
       "                       0\n",
       "0                 franca\n",
       "1  sao bernardo do campo\n",
       "2              sao paulo\n",
       "3        mogi das cruzes\n",
       "4               campinas"
      ]
     },
     "execution_count": 42,
     "metadata": {},
     "output_type": "execute_result"
    }
   ],
   "source": [
    "query = \"\"\"SELECT DISTINCT\n",
    "    customer_city\n",
    "FROM\n",
    "    CUSTOMERS \"\"\"\n",
    "\n",
    "cur.execute(query)\n",
    "\n",
    "data = cur.fetchall()\n",
    "\n",
    "df = pd.DataFrame(data)\n",
    "df.head()"
   ]
  },
  {
   "cell_type": "markdown",
   "id": "a21c81d7-270a-4eb9-abba-b72769ed8ca6",
   "metadata": {},
   "source": [
    "#  2. Count the number of orders placed in 2017."
   ]
  },
  {
   "cell_type": "code",
   "execution_count": 9,
   "id": "4641204d-140f-4ce4-bdea-f021beb4fd1b",
   "metadata": {},
   "outputs": [
    {
     "data": {
      "text/plain": [
       "('total orders placed in 2017', 45101)"
      ]
     },
     "execution_count": 9,
     "metadata": {},
     "output_type": "execute_result"
    }
   ],
   "source": [
    "query = \"\"\"SELECT \n",
    "    COUNT(order_id)\n",
    "FROM\n",
    "    ORDERS\n",
    "WHERE\n",
    "    YEAR(order_purchase_timestamp) = 2017 \"\"\"\n",
    "\n",
    "cur.execute(query)\n",
    "\n",
    "data = cur.fetchall()\n",
    "\n",
    "\"total orders placed in 2017\", data[0][0]"
   ]
  },
  {
   "cell_type": "markdown",
   "id": "626e2a7a-4f86-4d68-b107-652146378a4d",
   "metadata": {},
   "source": [
    "#  3. Find the total sales per category."
   ]
  },
  {
   "cell_type": "code",
   "execution_count": 37,
   "id": "d8c11865-b15d-4a1d-b903-ed80426ef814",
   "metadata": {},
   "outputs": [
    {
     "data": {
      "text/html": [
       "<div>\n",
       "<style scoped>\n",
       "    .dataframe tbody tr th:only-of-type {\n",
       "        vertical-align: middle;\n",
       "    }\n",
       "\n",
       "    .dataframe tbody tr th {\n",
       "        vertical-align: top;\n",
       "    }\n",
       "\n",
       "    .dataframe thead th {\n",
       "        text-align: right;\n",
       "    }\n",
       "</style>\n",
       "<table border=\"1\" class=\"dataframe\">\n",
       "  <thead>\n",
       "    <tr style=\"text-align: right;\">\n",
       "      <th></th>\n",
       "      <th>category</th>\n",
       "      <th>sales</th>\n",
       "    </tr>\n",
       "  </thead>\n",
       "  <tbody>\n",
       "    <tr>\n",
       "      <th>0</th>\n",
       "      <td>PERFUMERY</td>\n",
       "      <td>506738.66</td>\n",
       "    </tr>\n",
       "    <tr>\n",
       "      <th>1</th>\n",
       "      <td>FURNITURE DECORATION</td>\n",
       "      <td>1430176.39</td>\n",
       "    </tr>\n",
       "    <tr>\n",
       "      <th>2</th>\n",
       "      <td>TELEPHONY</td>\n",
       "      <td>486882.05</td>\n",
       "    </tr>\n",
       "    <tr>\n",
       "      <th>3</th>\n",
       "      <td>FASHION BAGS AND ACCESSORIES</td>\n",
       "      <td>218158.28</td>\n",
       "    </tr>\n",
       "    <tr>\n",
       "      <th>4</th>\n",
       "      <td>BED TABLE BATH</td>\n",
       "      <td>1712553.67</td>\n",
       "    </tr>\n",
       "  </tbody>\n",
       "</table>\n",
       "</div>"
      ],
      "text/plain": [
       "                       category       sales\n",
       "0                     PERFUMERY   506738.66\n",
       "1          FURNITURE DECORATION  1430176.39\n",
       "2                     TELEPHONY   486882.05\n",
       "3  FASHION BAGS AND ACCESSORIES   218158.28\n",
       "4                BED TABLE BATH  1712553.67"
      ]
     },
     "execution_count": 37,
     "metadata": {},
     "output_type": "execute_result"
    }
   ],
   "source": [
    "query = \"\"\"SELECT \n",
    "    UPPER(P.product_category) AS CATEGORY,\n",
    "    ROUND(SUM(Y.payment_value), 2) AS SALES\n",
    "FROM\n",
    "    ORDER_ITEMS I\n",
    "        JOIN\n",
    "    PRODUCTS P ON I.product_id = P.product_id\n",
    "        JOIN\n",
    "    PAYMENTS Y ON I.ORDER_ID = Y.ORDER_ID\n",
    "GROUP BY P.product_category\"\"\"\n",
    "\n",
    "cur.execute(query)\n",
    "\n",
    "data = cur.fetchall()\n",
    "\n",
    "data = pd.DataFrame(data, columns= [\"category\",\"sales\"])\n",
    "\n",
    "data.head()"
   ]
  },
  {
   "cell_type": "markdown",
   "id": "10045ca6-38f7-4958-a893-792c9ef584ed",
   "metadata": {},
   "source": [
    "#  4. Calculate the percentage of orders that were paid in installments."
   ]
  },
  {
   "cell_type": "code",
   "execution_count": 13,
   "id": "94957f15-4e5f-4987-9b9e-3ccd831fd856",
   "metadata": {},
   "outputs": [
    {
     "data": {
      "text/plain": [
       "[(Decimal('99.9981'),)]"
      ]
     },
     "execution_count": 13,
     "metadata": {},
     "output_type": "execute_result"
    }
   ],
   "source": [
    "query = \"\"\"SELECT \n",
    "    SUM(CASE\n",
    "        WHEN payment_installments >= 1 THEN 1\n",
    "        ELSE 0\n",
    "    END) * 100 / COUNT(*) AS EMI_PER\n",
    "FROM\n",
    "    PAYMENTS\"\"\"\n",
    "\n",
    "cur.execute(query)\n",
    "\n",
    "data = cur.fetchall()\n",
    "\n",
    "data"
   ]
  },
  {
   "cell_type": "markdown",
   "id": "81330350-eaa0-457a-a538-76d02a90d02d",
   "metadata": {},
   "source": [
    "#  5. Count the number of customers from each state. "
   ]
  },
  {
   "cell_type": "code",
   "execution_count": 57,
   "id": "8aa8e06a-3448-4eba-8458-4e0d8f3cd61b",
   "metadata": {},
   "outputs": [
    {
     "data": {
      "image/png": "[encoded data removed]",
      "text/plain": [
       "<Figure size 800x300 with 1 Axes>"
      ]
     },
     "metadata": {},
     "output_type": "display_data"
    }
   ],
   "source": [
    "query = \"\"\"SELECT \n",
    "    CUSTOMER_STATE, COUNT(CUSTOMER_STATE) AS NO_OF_CUSTOMERS\n",
    "FROM\n",
    "    CUSTOMERS\n",
    "GROUP BY CUSTOMER_STATE\"\"\"\n",
    "\n",
    "cur.execute(query)\n",
    "\n",
    "data = cur.fetchall()\n",
    "\n",
    "df = pd.DataFrame(data, columns= [\"State\", \"No.of customers\"])\n",
    "df = df.sort_values([\"No.of customers\"], ascending= False).reset_index(drop=True)\n",
    "\n",
    "plt.figure(figsize = (8,3))\n",
    "sns.barplot(data= df , x=\"State\", y= \"No.of customers\")\n",
    "plt.xticks(rotation= 90)\n",
    "plt.title(\"Count of Customers by States\")\n",
    "plt.show()"
   ]
  },
  {
   "cell_type": "markdown",
   "id": "e0f46b36-7604-4509-be2a-87766f8dcb8e",
   "metadata": {},
   "source": [
    "#   6. Calculate the number of orders per month in 2018."
   ]
  },
  {
   "cell_type": "code",
   "execution_count": 59,
   "id": "cdea7563-5391-45d9-bb04-9f56ddb20f5b",
   "metadata": {},
   "outputs": [
    {
     "data": {
      "image/png": "[encoded data removed]",
      "text/plain": [
       "<Figure size 640x480 with 1 Axes>"
      ]
     },
     "metadata": {},
     "output_type": "display_data"
    }
   ],
   "source": [
    "query = \"\"\"SELECT \n",
    "    MONTHNAME(order_purchase_timestamp) AS MONTHS,\n",
    "    COUNT(ORDER_ID) AS ORDERS_COUNT\n",
    "FROM\n",
    "    ORDERS\n",
    "WHERE\n",
    "    YEAR(order_purchase_timestamp) = 2018\n",
    "GROUP BY MONTHNAME(order_purchase_timestamp)\n",
    "ORDER BY ORDERS_COUNT DESC;\"\"\"\n",
    "\n",
    "cur.execute(query)\n",
    "\n",
    "data = cur.fetchall()\n",
    "\n",
    "df = pd.DataFrame(data, columns= [\"Month\",\"Orders_Count\"])\n",
    "o = [\"January\",\t\"February\",\t\"March\",\t\"April\",\t\"May\",\t\"June\",\t\"July\",\t\"August\",\t\"September\",\t\"October\"]\n",
    "\n",
    "ax = sns.barplot(data= df, x= \"Month\", y= \"Orders_Count\", order= o)\n",
    "ax.bar_label(ax.containers[0])\n",
    "plt.xticks(rotation= 45)\n",
    "plt.title(\"Number of orders per month in 2018\")\n",
    "plt.show()"
   ]
  },
  {
   "cell_type": "markdown",
   "id": "82fb51f8-c0a9-4c78-a014-47deb6f93f1e",
   "metadata": {},
   "source": [
    "#  7. Find the average number of products per order, grouped by customer city."
   ]
  },
  {
   "cell_type": "code",
   "execution_count": 64,
   "id": "5ca0f737-e5c6-444e-89b7-d75ef3b65d3f",
   "metadata": {},
   "outputs": [
    {
     "data": {
      "text/html": [
       "<div>\n",
       "<style scoped>\n",
       "    .dataframe tbody tr th:only-of-type {\n",
       "        vertical-align: middle;\n",
       "    }\n",
       "\n",
       "    .dataframe tbody tr th {\n",
       "        vertical-align: top;\n",
       "    }\n",
       "\n",
       "    .dataframe thead th {\n",
       "        text-align: right;\n",
       "    }\n",
       "</style>\n",
       "<table border=\"1\" class=\"dataframe\">\n",
       "  <thead>\n",
       "    <tr style=\"text-align: right;\">\n",
       "      <th></th>\n",
       "      <th>CUSTOMER_CITY</th>\n",
       "      <th>PROD_COUNT_PER_ORDER</th>\n",
       "    </tr>\n",
       "  </thead>\n",
       "  <tbody>\n",
       "    <tr>\n",
       "      <th>0</th>\n",
       "      <td>padre carvalho</td>\n",
       "      <td>7.00</td>\n",
       "    </tr>\n",
       "    <tr>\n",
       "      <th>1</th>\n",
       "      <td>celso ramos</td>\n",
       "      <td>6.50</td>\n",
       "    </tr>\n",
       "    <tr>\n",
       "      <th>2</th>\n",
       "      <td>datas</td>\n",
       "      <td>6.00</td>\n",
       "    </tr>\n",
       "    <tr>\n",
       "      <th>3</th>\n",
       "      <td>candido godoi</td>\n",
       "      <td>6.00</td>\n",
       "    </tr>\n",
       "    <tr>\n",
       "      <th>4</th>\n",
       "      <td>matias olimpio</td>\n",
       "      <td>5.00</td>\n",
       "    </tr>\n",
       "  </tbody>\n",
       "</table>\n",
       "</div>"
      ],
      "text/plain": [
       "    CUSTOMER_CITY PROD_COUNT_PER_ORDER\n",
       "0  padre carvalho                 7.00\n",
       "1     celso ramos                 6.50\n",
       "2           datas                 6.00\n",
       "3   candido godoi                 6.00\n",
       "4  matias olimpio                 5.00"
      ]
     },
     "execution_count": 64,
     "metadata": {},
     "output_type": "execute_result"
    }
   ],
   "source": [
    "query = \"\"\"SELECT \n",
    "    A.CUSTOMER_CITY,\n",
    "    ROUND(AVG(PROD_COUNT), 2) AS PROD_COUNT_PER_ORDER\n",
    "FROM\n",
    "    (SELECT \n",
    "        C.customer_city,\n",
    "            O.order_id,\n",
    "            COUNT(I.product_id) AS PROD_COUNT\n",
    "    FROM\n",
    "        CUSTOMERS C\n",
    "    JOIN ORDERS O ON C.CUSTOMER_ID = O.CUSTOMER_ID\n",
    "    JOIN ORDER_ITEMS I ON I.order_id = O.order_id\n",
    "    GROUP BY C.customer_city , O.order_id) A\n",
    "GROUP BY A.CUSTOMER_CITY\n",
    "ORDER BY PROD_COUNT_PER_ORDER DESC\n",
    ";\"\"\"\n",
    "\n",
    "cur.execute(query)\n",
    "\n",
    "data = cur.fetchall()\n",
    "\n",
    "df = pd.DataFrame(data, columns= [\"CUSTOMER_CITY\", \"PROD_COUNT_PER_ORDER\"])\n",
    "df.head()"
   ]
  },
  {
   "cell_type": "markdown",
   "id": "00b825d1-9032-43ed-b459-61f262b58554",
   "metadata": {},
   "source": [
    "#  8. Calculate the percentage of total revenue contributed by each product category."
   ]
  },
  {
   "cell_type": "code",
   "execution_count": 67,
   "id": "6319bef2-7bd2-497c-b6d1-b6d06c29e7b7",
   "metadata": {},
   "outputs": [
    {
     "data": {
      "text/html": [
       "<div>\n",
       "<style scoped>\n",
       "    .dataframe tbody tr th:only-of-type {\n",
       "        vertical-align: middle;\n",
       "    }\n",
       "\n",
       "    .dataframe tbody tr th {\n",
       "        vertical-align: top;\n",
       "    }\n",
       "\n",
       "    .dataframe thead th {\n",
       "        text-align: right;\n",
       "    }\n",
       "</style>\n",
       "<table border=\"1\" class=\"dataframe\">\n",
       "  <thead>\n",
       "    <tr style=\"text-align: right;\">\n",
       "      <th></th>\n",
       "      <th>CATEGORY</th>\n",
       "      <th>SALES_PER</th>\n",
       "    </tr>\n",
       "  </thead>\n",
       "  <tbody>\n",
       "    <tr>\n",
       "      <th>0</th>\n",
       "      <td>BED TABLE BATH</td>\n",
       "      <td>10.70</td>\n",
       "    </tr>\n",
       "    <tr>\n",
       "      <th>1</th>\n",
       "      <td>HEALTH BEAUTY</td>\n",
       "      <td>10.35</td>\n",
       "    </tr>\n",
       "    <tr>\n",
       "      <th>2</th>\n",
       "      <td>COMPUTER ACCESSORIES</td>\n",
       "      <td>9.90</td>\n",
       "    </tr>\n",
       "    <tr>\n",
       "      <th>3</th>\n",
       "      <td>FURNITURE DECORATION</td>\n",
       "      <td>8.93</td>\n",
       "    </tr>\n",
       "    <tr>\n",
       "      <th>4</th>\n",
       "      <td>WATCHES PRESENT</td>\n",
       "      <td>8.93</td>\n",
       "    </tr>\n",
       "  </tbody>\n",
       "</table>\n",
       "</div>"
      ],
      "text/plain": [
       "               CATEGORY  SALES_PER\n",
       "0        BED TABLE BATH      10.70\n",
       "1         HEALTH BEAUTY      10.35\n",
       "2  COMPUTER ACCESSORIES       9.90\n",
       "3  FURNITURE DECORATION       8.93\n",
       "4       WATCHES PRESENT       8.93"
      ]
     },
     "execution_count": 67,
     "metadata": {},
     "output_type": "execute_result"
    }
   ],
   "source": [
    "query = \"\"\"SELECT \n",
    "    UPPER(P.product_category) AS CATEGORY,\n",
    "   Round((SUM(Y.payment_value)/(SELECT sum(Y.payment_value) FROM PAYMENTS Y))*100,2) AS SALES_PER\n",
    "FROM\n",
    "    ORDER_ITEMS I\n",
    "        JOIN\n",
    "    PRODUCTS P ON I.product_id = P.product_id\n",
    "        JOIN\n",
    "    PAYMENTS Y ON I.ORDER_ID = Y.ORDER_ID\n",
    "GROUP BY P.product_category\n",
    "ORDER BY SALES_PER DESC;\n",
    "\"\"\"\n",
    "\n",
    "cur.execute(query)\n",
    "\n",
    "data = cur.fetchall()\n",
    "\n",
    "df = pd.DataFrame(data, columns= [\"CATEGORY\",\"SALES_PER\"])\n",
    "df.head()"
   ]
  },
  {
   "cell_type": "markdown",
   "id": "7af1b932-4c11-471c-87e1-f09379c4f702",
   "metadata": {},
   "source": [
    "# 9. Identify the correlation between product price and the number of times a product has been purchased."
   ]
  },
  {
   "cell_type": "code",
   "execution_count": 85,
   "id": "b03c1e33-42d2-43bd-b019-0535d2975e4d",
   "metadata": {},
   "outputs": [
    {
     "name": "stdout",
     "output_type": "stream",
     "text": [
      "correlation between product price and the number of times a product has been purchased is -0.04421869277068836\n"
     ]
    },
    {
     "data": {
      "image/png": "[encoded data removed]",
      "text/plain": [
       "<Figure size 500x500 with 1 Axes>"
      ]
     },
     "metadata": {},
     "output_type": "display_data"
    }
   ],
   "source": [
    "query = \"\"\"select distinct product_id, price, count(product_id) as product_count\n",
    "from order_items\n",
    "group by product_id, price\n",
    "order by product_count desc;\n",
    "\"\"\"\n",
    "\n",
    "cur.execute(query)\n",
    "\n",
    "data = cur.fetchall()\n",
    "\n",
    "df = pd.DataFrame(data, columns= [\"PRODUCT_ID\",\"PRICE\",\"PROD_PURC_COUNT\"])\n",
    "corr = df[\"PRICE\"].corr(df[\"PROD_PURC_COUNT\"])\n",
    "print(\"correlation between product price and the number of times a product has been purchased is\",corr)\n",
    "sns.lmplot(data= df, x=\"PRICE\", y= \"PROD_PURC_COUNT\", ci= None)\n",
    "plt.show()"
   ]
  },
  {
   "cell_type": "markdown",
   "id": "63f946d3-f2d6-466a-8c2a-0fe8a836b048",
   "metadata": {},
   "source": [
    "#  10. Calculate the total revenue generated by each seller, and rank them by revenue."
   ]
  },
  {
   "cell_type": "code",
   "execution_count": 87,
   "id": "3ac58afc-d59a-4cef-9bd1-20e5290c9348",
   "metadata": {},
   "outputs": [
    {
     "data": {
      "text/html": [
       "<div>\n",
       "<style scoped>\n",
       "    .dataframe tbody tr th:only-of-type {\n",
       "        vertical-align: middle;\n",
       "    }\n",
       "\n",
       "    .dataframe tbody tr th {\n",
       "        vertical-align: top;\n",
       "    }\n",
       "\n",
       "    .dataframe thead th {\n",
       "        text-align: right;\n",
       "    }\n",
       "</style>\n",
       "<table border=\"1\" class=\"dataframe\">\n",
       "  <thead>\n",
       "    <tr style=\"text-align: right;\">\n",
       "      <th></th>\n",
       "      <th>SELLER_ID</th>\n",
       "      <th>REVENUE</th>\n",
       "      <th>RANK</th>\n",
       "    </tr>\n",
       "  </thead>\n",
       "  <tbody>\n",
       "    <tr>\n",
       "      <th>0</th>\n",
       "      <td>7c67e1448b00f6e969d365cea6b010ab</td>\n",
       "      <td>507166.91</td>\n",
       "      <td>1</td>\n",
       "    </tr>\n",
       "    <tr>\n",
       "      <th>1</th>\n",
       "      <td>1025f0e2d44d7041d6cf58b6550e0bfa</td>\n",
       "      <td>308222.04</td>\n",
       "      <td>2</td>\n",
       "    </tr>\n",
       "    <tr>\n",
       "      <th>2</th>\n",
       "      <td>4a3ca9315b744ce9f8e9374361493884</td>\n",
       "      <td>301245.27</td>\n",
       "      <td>3</td>\n",
       "    </tr>\n",
       "    <tr>\n",
       "      <th>3</th>\n",
       "      <td>1f50f920176fa81dab994f9023523100</td>\n",
       "      <td>290253.42</td>\n",
       "      <td>4</td>\n",
       "    </tr>\n",
       "    <tr>\n",
       "      <th>4</th>\n",
       "      <td>53243585a1d6dc2643021fd1853d8905</td>\n",
       "      <td>284903.08</td>\n",
       "      <td>5</td>\n",
       "    </tr>\n",
       "  </tbody>\n",
       "</table>\n",
       "</div>"
      ],
      "text/plain": [
       "                          SELLER_ID    REVENUE  RANK\n",
       "0  7c67e1448b00f6e969d365cea6b010ab  507166.91     1\n",
       "1  1025f0e2d44d7041d6cf58b6550e0bfa  308222.04     2\n",
       "2  4a3ca9315b744ce9f8e9374361493884  301245.27     3\n",
       "3  1f50f920176fa81dab994f9023523100  290253.42     4\n",
       "4  53243585a1d6dc2643021fd1853d8905  284903.08     5"
      ]
     },
     "execution_count": 87,
     "metadata": {},
     "output_type": "execute_result"
    }
   ],
   "source": [
    "query = \"\"\"select a.*, rank() over(order by revenue desc) rnk\n",
    "from (select seller_id, round(sum(payment_value),2) as revenue\n",
    "from order_items I\n",
    "join payments P on I.order_id = P.order_id\n",
    "group by seller_id\n",
    "order by revenue desc) a\n",
    "\"\"\"\n",
    "\n",
    "cur.execute(query)\n",
    "\n",
    "data = cur.fetchall()\n",
    "\n",
    "df = pd.DataFrame(data, columns= [\"SELLER_ID\",\"REVENUE\",\"RANK\"])\n",
    "df.head()"
   ]
  },
  {
   "cell_type": "markdown",
   "id": "95c568b6-8682-453f-bbb2-4b465064fd34",
   "metadata": {},
   "source": [
    "#  11.Calculate the moving average of order values for each customer over their order history."
   ]
  },
  {
   "cell_type": "code",
   "execution_count": 3,
   "id": "96a923cc-97c9-4d7a-b936-b2481d79e7e6",
   "metadata": {},
   "outputs": [
    {
     "data": {
      "text/html": [
       "<div>\n",
       "<style scoped>\n",
       "    .dataframe tbody tr th:only-of-type {\n",
       "        vertical-align: middle;\n",
       "    }\n",
       "\n",
       "    .dataframe tbody tr th {\n",
       "        vertical-align: top;\n",
       "    }\n",
       "\n",
       "    .dataframe thead th {\n",
       "        text-align: right;\n",
       "    }\n",
       "</style>\n",
       "<table border=\"1\" class=\"dataframe\">\n",
       "  <thead>\n",
       "    <tr style=\"text-align: right;\">\n",
       "      <th></th>\n",
       "      <th>customer_id</th>\n",
       "      <th>order_purchase_timestamp</th>\n",
       "      <th>mov_avg</th>\n",
       "    </tr>\n",
       "  </thead>\n",
       "  <tbody>\n",
       "    <tr>\n",
       "      <th>0</th>\n",
       "      <td>00012a2ce6f8dcda20d059ce98491703</td>\n",
       "      <td>2017-11-14 16:08:26</td>\n",
       "      <td>114.74</td>\n",
       "    </tr>\n",
       "    <tr>\n",
       "      <th>1</th>\n",
       "      <td>000161a058600d5901f007fab4c27140</td>\n",
       "      <td>2017-07-16 09:40:32</td>\n",
       "      <td>67.41</td>\n",
       "    </tr>\n",
       "    <tr>\n",
       "      <th>2</th>\n",
       "      <td>0001fd6190edaaf884bcaf3d49edf079</td>\n",
       "      <td>2017-02-28 11:06:43</td>\n",
       "      <td>195.42</td>\n",
       "    </tr>\n",
       "    <tr>\n",
       "      <th>3</th>\n",
       "      <td>0002414f95344307404f0ace7a26f1d5</td>\n",
       "      <td>2017-08-16 13:09:20</td>\n",
       "      <td>179.35</td>\n",
       "    </tr>\n",
       "    <tr>\n",
       "      <th>4</th>\n",
       "      <td>000379cdec625522490c315e70c7a9fb</td>\n",
       "      <td>2018-04-02 13:42:17</td>\n",
       "      <td>107.01</td>\n",
       "    </tr>\n",
       "  </tbody>\n",
       "</table>\n",
       "</div>"
      ],
      "text/plain": [
       "                        customer_id order_purchase_timestamp  mov_avg\n",
       "0  00012a2ce6f8dcda20d059ce98491703      2017-11-14 16:08:26   114.74\n",
       "1  000161a058600d5901f007fab4c27140      2017-07-16 09:40:32    67.41\n",
       "2  0001fd6190edaaf884bcaf3d49edf079      2017-02-28 11:06:43   195.42\n",
       "3  0002414f95344307404f0ace7a26f1d5      2017-08-16 13:09:20   179.35\n",
       "4  000379cdec625522490c315e70c7a9fb      2018-04-02 13:42:17   107.01"
      ]
     },
     "execution_count": 3,
     "metadata": {},
     "output_type": "execute_result"
    }
   ],
   "source": [
    "query = \"\"\"SELECT a.customer_id, a.order_purchase_timestamp,\n",
    "round(avg(a.payment_value) over(partition by a.customer_id order by a.order_purchase_timestamp\n",
    "rows between 2 preceding and current row),2) as mov_avg\n",
    "from (SELECT O.customer_id, O.order_purchase_timestamp, P.payment_value\n",
    "FROM ORDERS O\n",
    "JOIN PAYMENTS P\n",
    "ON O.ORDER_ID = P.ORDER_ID) a\n",
    "\"\"\"\n",
    "\n",
    "cur.execute(query)\n",
    "\n",
    "data = cur.fetchall()\n",
    "\n",
    "df = pd.DataFrame(data, columns= [\"customer_id\",\"order_purchase_timestamp\",\"mov_avg\"])\n",
    "df.head()"
   ]
  },
  {
   "cell_type": "markdown",
   "id": "4b57adac-e026-4765-89b8-ca7de27cb801",
   "metadata": {},
   "source": [
    "#  12.Calculate the cumulative sales per month for each year."
   ]
  },
  {
   "cell_type": "code",
   "execution_count": 8,
   "id": "886192b9-c7cf-4b0c-a6e5-29cce1cdce3b",
   "metadata": {},
   "outputs": [
    {
     "data": {
      "image/png": "[encoded data removed]",
      "text/plain": [
       "<Figure size 1500x500 with 3 Axes>"
      ]
     },
     "metadata": {},
     "output_type": "display_data"
    }
   ],
   "source": [
    "query = \"\"\"SELECT A.*, ROUND(SUM(A.SALES) OVER(partition by A.YY order by A.MM),2) CUM_SALES\n",
    "FROM (SELECT YEAR(O.order_purchase_timestamp) AS YY , MONTH(O.order_purchase_timestamp) AS MM , ROUND(SUM(P.payment_value),2) AS SALES\n",
    "FROM ORDERS O\n",
    "JOIN PAYMENTS P ON O.ORDER_ID = P.ORDER_ID\n",
    "GROUP BY YEAR(O.order_purchase_timestamp), MONTH(O.order_purchase_timestamp)\n",
    "ORDER BY YEAR(O.order_purchase_timestamp), MONTH(O.order_purchase_timestamp)) A;\n",
    "\"\"\"\n",
    "\n",
    "cur.execute(query)\n",
    "\n",
    "data = cur.fetchall()\n",
    "\n",
    "df = pd.DataFrame(data, columns= [\"year\",\"month\",\"sales\",\"cum_sales\"])\n",
    "\n",
    "sns.relplot(data= df, x= \"month\", y=\"cum_sales\", kind= \"line\", col = \"year\")\n",
    "plt.show()"
   ]
  },
  {
   "cell_type": "markdown",
   "id": "a6c28947-0472-463e-8745-7890e0912377",
   "metadata": {},
   "source": [
    "#  13. Calculate the year-over-year growth rate of total sales."
   ]
  },
  {
   "cell_type": "code",
   "execution_count": 17,
   "id": "ced14dd3-0b8b-4b81-878e-0161d8f0835b",
   "metadata": {},
   "outputs": [
    {
     "name": "stdout",
     "output_type": "stream",
     "text": [
      "   year       sales  pre_yy_sales  growth_rate\n",
      "0  2016    59362.34           NaN          NaN\n",
      "1  2017  7249746.73      59362.34      12112.7\n",
      "2  2018  8699763.05    7249746.73         20.0\n"
     ]
    },
    {
     "data": {
      "image/png": "[encoded data removed]",
      "text/plain": [
       "<Figure size 640x480 with 1 Axes>"
      ]
     },
     "metadata": {},
     "output_type": "display_data"
    }
   ],
   "source": [
    "query = \"\"\"SELECT B.*, ROUND((SALES-PRE_YY)*100/PRE_YY,2) AS GROWTH_RATE\n",
    "FROM (SELECT A.*, lag(sales,1) over(order by YY) as PRE_YY\n",
    "FROM (SELECT YEAR(O.order_purchase_timestamp) AS YY , ROUND(SUM(P.payment_value),2) AS SALES\n",
    "FROM ORDERS O\n",
    "JOIN PAYMENTS P ON O.ORDER_ID = P.ORDER_ID\n",
    "GROUP BY YEAR(O.order_purchase_timestamp)\n",
    "ORDER BY YEAR(O.order_purchase_timestamp)) A) B;\n",
    "\"\"\"\n",
    "\n",
    "cur.execute(query)\n",
    "\n",
    "data = cur.fetchall()\n",
    "\n",
    "df = pd.DataFrame(data, columns= [\"year\",\"sales\",\"pre_yy_sales\",\"growth_rate\"])\n",
    "print(df)\n",
    "ax = sns.barplot(data= df, x= \"year\", y=\"growth_rate\")\n",
    "ax.bar_label(ax.containers[0])\n",
    "plt.show()"
   ]
  },
  {
   "cell_type": "markdown",
   "id": "092072f1-1457-4735-b70e-ba3a15c31e53",
   "metadata": {},
   "source": [
    "#  14. Calculate the retention rate of customers, defined as the percentage of customers who make another purchase within 6 months of their first purchase."
   ]
  },
  {
   "cell_type": "code",
   "execution_count": 20,
   "id": "1140df3a-ad95-4bd5-8d77-ac67d17ff0c0",
   "metadata": {},
   "outputs": [
    {
     "name": "stdout",
     "output_type": "stream",
     "text": [
      "[(None,)]\n"
     ]
    }
   ],
   "source": [
    "query = \"\"\"WITH A AS (SELECT \n",
    "    C.CUSTOMER_ID,\n",
    "    MIN(O.ORDER_PURCHASE_TIMESTAMP) AS FIRST_ORDER\n",
    "FROM\n",
    "    ORDERS O\n",
    "        JOIN\n",
    "    CUSTOMERS C ON O.CUSTOMER_ID = C.CUSTOMER_ID\n",
    "GROUP BY C.CUSTOMER_ID),\n",
    "\n",
    "B AS (SELECT \n",
    "    A.CUSTOMER_ID, COUNT(DISTINCT O.ORDER_PURCHASE_TIMESTAMP)\n",
    "FROM\n",
    "    A\n",
    "        JOIN\n",
    "    ORDERS O ON O.CUSTOMER_ID = A.CUSTOMER_ID\n",
    "    AND O.ORDER_PURCHASE_TIMESTAMP > A.FIRST_ORDER\n",
    "    AND O.ORDER_PURCHASE_TIMESTAMP < date_add(FIRST_ORDER, interval 6 MONTH)\n",
    "    GROUP BY A.CUSTOMER_ID)\n",
    "    \n",
    "    SELECT COUNT(DISTINCT A.CUSTOMER_ID)*100/COUNT(DISTINCT B.CUSTOMER_iD) AS RETENTION_PER\n",
    "    FROM A LEFT JOIN B\n",
    "    ON A.CUSTOMER_ID = B.CUSTOMER_ID;\n",
    "\"\"\"\n",
    "\n",
    "cur.execute(query)\n",
    "\n",
    "data = cur.fetchall()\n",
    "\n",
    "print(data)"
   ]
  },
  {
   "cell_type": "markdown",
   "id": "3aaad8f3-90c5-41bd-b01d-95a55b611c92",
   "metadata": {},
   "source": [
    "#  15. Identify the top 3 customers who spent the most money in each year."
   ]
  },
  {
   "cell_type": "code",
   "execution_count": 4,
   "id": "023a6608-8e47-4052-aa15-d7b6329c529f",
   "metadata": {},
   "outputs": [
    {
     "name": "stdout",
     "output_type": "stream",
     "text": [
      "   Year                       Customer_ID   Money_Spent  Rank\n",
      "0  2016  a9dc96b027d1252bbac0a9b72d837fc6   1423.550049     1\n",
      "1  2016  1d34ed25963d5aae4cf3d7f3a4cda173   1400.739990     2\n",
      "2  2016  4a06381959b6670756de02e07b83815f   1227.780029     3\n",
      "3  2017  1617b1357756262bfa56ab541c47bc16  13664.080078     1\n",
      "4  2017  c6e2731c5b391845f6800c97401a43a9   6929.310059     2\n",
      "5  2017  3fd6777bbce08a352fddd04e4a7cc8f6   6726.660156     3\n",
      "6  2018  ec5b2ba62e574342386871631fafd3fc   7274.879883     1\n",
      "7  2018  f48d464a0baaea338cb25f816991ab1f   6922.209961     2\n",
      "8  2018  e0a2412720e9ea4f26c1ac985f6a7358   4809.439941     3\n"
     ]
    }
   ],
   "source": [
    "query = \"\"\"SELECT B.*\n",
    "FROM (SELECT A.YR, A.CUSTOMER_ID, A.MONEY_SPENT, RANK() OVER(partition by A.YR ORDER BY MONEY_SPENT DESC) RNK\n",
    "FROM (SELECT  YEAR(O.order_purchase_timestamp) AS YR, O.CUSTOMER_ID, SUM(P.PAYMENT_VALUE) AS MONEY_SPENT \n",
    "FROM PAYMENTS P\n",
    "JOIN ORDERS O ON O.ORDER_ID= P.ORDER_ID\n",
    "GROUP BY YEAR(O.order_purchase_timestamp), O.CUSTOMER_ID\n",
    "ORDER BY YR ASC, MONEY_SPENT DESC) A) B\n",
    "WHERE RNK <= 3;\n",
    "\"\"\"\n",
    "\n",
    "cur.execute(query)\n",
    "\n",
    "data = cur.fetchall()\n",
    "\n",
    "df = pd.DataFrame(data, columns= [\"Year\", \"Customer_ID\", \"Money_Spent\",\"Rank\"])\n",
    "print(df)"
   ]
  }
 ],
 "metadata": {
  "kernelspec": {
   "display_name": "Python 3 (ipykernel)",
   "language": "python",
   "name": "python3"
  },
  "language_info": {
   "codemirror_mode": {
    "name": "ipython",
    "version": 3
   },
   "file_extension": ".py",
   "mimetype": "text/x-python",
   "name": "python",
   "nbconvert_exporter": "python",
   "pygments_lexer": "ipython3",
   "version": "3.12.4"
  }
 },
 "nbformat": 4,
 "nbformat_minor": 5
}
